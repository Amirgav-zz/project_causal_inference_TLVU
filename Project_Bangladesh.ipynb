{
 "cells": [
  {
   "cell_type": "code",
   "execution_count": 12,
   "metadata": {},
   "outputs": [],
   "source": [
    "%matplotlib inline\n",
    "#import pymc3 as pm\n",
    "import numpy as np\n",
    "import pandas as pd\n",
    "import matplotlib.pyplot as plt\n",
    "import seaborn as sns\n",
    "import matplotlib.pylab as plt\n",
    "import math\n",
    "#import theano\n",
    "#import theano.tensor as tt\n",
    "from scipy import stats\n",
    "from scipy.special import expit as logistic\n",
    "from scipy.special import logit\n",
    "from sklearn.linear_model import LogisticRegression\n",
    "from sklearn import preprocessing\n",
    "from sklearn.model_selection import train_test_split\n",
    "from sklearn.linear_model import LogisticRegression, LinearRegression\n",
    "from sklearn.ensemble import RandomForestClassifier, GradientBoostingClassifier, GradientBoostingRegressor, RandomForestRegressor\n",
    "from sklearn.model_selection import cross_val_predict, cross_val_score\n",
    "from sklearn.model_selection import RandomizedSearchCV\n",
    "from sklearn.metrics import auc, mean_squared_error, roc_curve, roc_auc_score, accuracy_score\n",
    "\n",
    "\n",
    "\n",
    "import matplotlib.pyplot as plt\n",
    "import altair as alt\n",
    "alt.data_transformers.enable('default', max_rows=None)\n",
    "import arviz as az\n",
    "\n",
    "import os\n",
    "\n",
    "import sys\n",
    "sys.path.insert(0, '/Users/user/PycharmProjects/statrethink_course_in_pymc3')\n",
    "sys.path.insert(0, '/Users/user/PycharmProjects/COVID19-ISRAEL')"
   ]
  },
  {
   "cell_type": "code",
   "execution_count": 13,
   "metadata": {},
   "outputs": [],
   "source": [
    "fig_dir = '/Users/user/Desktop/Graduate/Tel_Aviv_University_Courses/Uri_Shalit/project/figures'"
   ]
  },
  {
   "cell_type": "markdown",
   "metadata": {},
   "source": [
    "# Data proccesing "
   ]
  },
  {
   "cell_type": "code",
   "execution_count": 14,
   "metadata": {},
   "outputs": [],
   "source": [
    "# bangladesh v2 data\n",
    "dir_path = '/Users/user/Downloads/BD_2014_DHS_09162020_1231_152120/BDBR72DT'\n",
    "suffix = 'BDBR72FL.DTA'\n",
    "path = os.path.join(dir_path, suffix)\n",
    "dv2 = pd.read_stata(path)"
   ]
  },
  {
   "cell_type": "code",
   "execution_count": 15,
   "metadata": {},
   "outputs": [
    {
     "name": "stdout",
     "output_type": "stream",
     "text": [
      " there are 43772 surveys with 1159 features\n"
     ]
    }
   ],
   "source": [
    "print(f' there are {dv2.shape[0]} surveys with {dv2.shape[1]} features')"
   ]
  },
  {
   "cell_type": "code",
   "execution_count": 16,
   "metadata": {},
   "outputs": [],
   "source": [
    "dv2.drop_duplicates(keep='first', inplace=True)"
   ]
  },
  {
   "cell_type": "code",
   "execution_count": 17,
   "metadata": {},
   "outputs": [
    {
     "name": "stdout",
     "output_type": "stream",
     "text": [
      " there are 43772 surveys after droping duplicates\n"
     ]
    }
   ],
   "source": [
    "print(f' there are {dv2.shape[0]} surveys after droping duplicates')"
   ]
  },
  {
   "cell_type": "code",
   "execution_count": 223,
   "metadata": {},
   "outputs": [],
   "source": [
    "# v025 : rural urban\n",
    "# v106 : No education, Primary, Secondary, and Higher\n",
    "# V312 : Current contraceptive method\n",
    "# v313 : modern method, a traditional method, or a folkloric method\n",
    "# v315 month started taking contraceptive\n",
    "# v316 year started taking contraceptive\n",
    "# v701 The current or most recent husband or partner's highest level of education attended\n",
    "# v445 bmi To produce the BMI divide by 100. The BMI has not been adjusted for pregnant women.\n",
    "# v717 : occupation : Standardized respondent's occupation groups.\n",
    "# v605 : want children : Desire for more children is a constructed variable classifying respondents\n",
    "# v213 : pregnant\n",
    "# v206 : Total number of sons who have died\n",
    "# v207 : Total number of daughters who have died\n",
    "# v130 : religion\n",
    "# V136 : Total number of household members is the number of usual residents plus the number of visitors who slept in the house the previous night\n",
    "column_dict = {'v010':'yob', 'v012':'age', 'v020':'ever_married',\n",
    "               'v025':'urban','v106':'education',  'v201':'children', \n",
    "               'v312':'contraceptive_current', 'v313': 'contraceptive_type',\n",
    "              'caseid':'id', \"v701\": 'education_husband', \"v445\":\"bmi\", \"v717\": 'occupation',\n",
    "              'v605': 'want_children', 'v213':'pregnant', 'v130':'religion', 'v136': 'household_residents'}"
   ]
  },
  {
   "cell_type": "code",
   "execution_count": 345,
   "metadata": {},
   "outputs": [
    {
     "name": "stdout",
     "output_type": "stream",
     "text": [
      "43772\n",
      "43769\n"
     ]
    }
   ],
   "source": [
    "d2 = dv2[[c for c in column_dict.keys()]]\n",
    "d2 = d2.rename(columns=column_dict).copy()\n",
    "d2['dead_children'] = dv2.v206 + dv2.v207\n",
    "d2['Y'] = np.where(d2.contraceptive_current != 'not using',1,0)\n",
    "d2['urban_bol'] = np.where(d2.urban == 'urban',1,0)\n",
    "d2['pregnant'] = np.where(d2.pregnant == 'yes',1,0)\n",
    "\n",
    "d2['id'] = (dv2['caseid'].astype(str)\n",
    "            .apply(lambda x: x.split(' '))\n",
    "            .apply(lambda x: ''.join(x))\n",
    "            .astype(int))\n",
    "edu_dict = {'no education':0, 'primary':1, 'secondary':2, 'higher':3}\n",
    "d2['education_ord'] = d2.education.replace(edu_dict)\n",
    "d2['education_husband_ord'] = d2.education_husband.replace(edu_dict)\n",
    "print(d2.shape[0])\n",
    "d2 = d2[~d2.education_husband_ord.isna()]\n",
    "print(d2.shape[0])"
   ]
  },
  {
   "cell_type": "code",
   "execution_count": 346,
   "metadata": {},
   "outputs": [],
   "source": [
    "bmi_list = d2.bmi.unique().tolist()\n",
    "bmi_list.remove(bmi_list[3])\n",
    "bmi_list.remove('flagged cases')\n",
    "d2 = d2[d2.bmi.isin(bmi_list)]  \n",
    "d2.bmi = d2.bmi.astype(int) /100 "
   ]
  },
  {
   "cell_type": "code",
   "execution_count": 347,
   "metadata": {},
   "outputs": [],
   "source": [
    "d2 = pd.merge(d2.reset_index(), pd.get_dummies(d2[['occupation']].reset_index()).astype(int), on='index')\n",
    "d2 = pd.merge(d2, pd.get_dummies(d2[['want_children']].reset_index()).astype(int), on='index')\n",
    "d2 = pd.merge(d2, pd.get_dummies(d2[['religion']].reset_index()).astype(int), on='index')"
   ]
  },
  {
   "cell_type": "markdown",
   "metadata": {},
   "source": [
    "### Decide Treatment"
   ]
  },
  {
   "cell_type": "code",
   "execution_count": 348,
   "metadata": {},
   "outputs": [],
   "source": [
    "# Secondary education\n",
    "# d2 = d2[d2.education_ord <=2].copy()\n",
    "# d2['T'] = np.where((d2.education_ord ==2) ,1,0)\n",
    "# higher = False\n",
    "\n",
    "# Higher education\n",
    "d2['T'] = np.where((d2.education_ord ==3) ,1,0)\n",
    "d2['Secondary Education'] = np.where((d2.education_ord ==2) ,1,0)\n",
    "higher = True\n",
    "title = 'Treatment is Higher education'"
   ]
  },
  {
   "cell_type": "code",
   "execution_count": 349,
   "metadata": {},
   "outputs": [
    {
     "name": "stdout",
     "output_type": "stream",
     "text": [
      " there are 15524 unique women in the survey with 42578 surveys\n"
     ]
    }
   ],
   "source": [
    "print(f' there are {d2.id.nunique()} unique women in the survey with {d2.shape[0]} surveys')"
   ]
  },
  {
   "cell_type": "code",
   "execution_count": 350,
   "metadata": {},
   "outputs": [],
   "source": [
    "d2_dup = d2[d2.duplicated(subset='id',keep=False)]"
   ]
  },
  {
   "cell_type": "code",
   "execution_count": 351,
   "metadata": {},
   "outputs": [
    {
     "name": "stdout",
     "output_type": "stream",
     "text": [
      " there are 11700 women with multiple surveys\n"
     ]
    }
   ],
   "source": [
    "print(f' there are {d2_dup.id.nunique()} women with multiple surveys')"
   ]
  },
  {
   "cell_type": "markdown",
   "metadata": {},
   "source": [
    "##### We will drop duplicates on the limited columns"
   ]
  },
  {
   "cell_type": "code",
   "execution_count": 352,
   "metadata": {},
   "outputs": [],
   "source": [
    "d2.drop_duplicates(keep='first', inplace=True)"
   ]
  },
  {
   "cell_type": "code",
   "execution_count": 353,
   "metadata": {},
   "outputs": [
    {
     "name": "stdout",
     "output_type": "stream",
     "text": [
      " there are 42578 unique surveys of 15524\n"
     ]
    }
   ],
   "source": [
    "print(f' there are {d2.shape[0]} unique surveys of {d2.id.nunique()}')"
   ]
  },
  {
   "cell_type": "code",
   "execution_count": 354,
   "metadata": {},
   "outputs": [],
   "source": [
    "d2_dup = d2[d2.duplicated(subset='id',keep=False)]"
   ]
  },
  {
   "cell_type": "code",
   "execution_count": 355,
   "metadata": {},
   "outputs": [
    {
     "name": "stdout",
     "output_type": "stream",
     "text": [
      " there are 11700 women with multiple surveys after droping duplicates\n"
     ]
    }
   ],
   "source": [
    "print(f' there are {d2_dup.id.nunique()} women with multiple surveys after droping duplicates')"
   ]
  },
  {
   "cell_type": "code",
   "execution_count": 356,
   "metadata": {},
   "outputs": [
    {
     "name": "stdout",
     "output_type": "stream",
     "text": [
      " There are 0 women who changed their education during the time of the survey\n"
     ]
    }
   ],
   "source": [
    "tmp = d2_dup.groupby('id').education_ord.count().reset_index()\n",
    "tmp2 = tmp[tmp.duplicated(keep=False)]\n",
    "print(f' There are {tmp2.shape[0]} women who changed their education during the time of the survey')"
   ]
  },
  {
   "cell_type": "code",
   "execution_count": 357,
   "metadata": {},
   "outputs": [
    {
     "name": "stdout",
     "output_type": "stream",
     "text": [
      "  there are 0 women who changed her contraceptive use between surveys\n"
     ]
    }
   ],
   "source": [
    "tmp = d2_dup.groupby('id').Y.count().reset_index()\n",
    "tmp2 = tmp[tmp.duplicated(keep=False)]\n",
    "print(f'  there are {tmp2.shape[0]} women who changed her contraceptive use between surveys')"
   ]
  },
  {
   "cell_type": "code",
   "execution_count": 358,
   "metadata": {},
   "outputs": [
    {
     "name": "stdout",
     "output_type": "stream",
     "text": [
      "We are left with 15524 surveys of 15524 women\n"
     ]
    }
   ],
   "source": [
    "d2.drop_duplicates(subset='id',keep='first', inplace=True)\n",
    "print(f'We are left with {d2.shape[0]} surveys of {d2.id.nunique()} women')"
   ]
  },
  {
   "cell_type": "markdown",
   "metadata": {},
   "source": [
    "# Data description"
   ]
  },
  {
   "cell_type": "code",
   "execution_count": 359,
   "metadata": {},
   "outputs": [],
   "source": [
    "from src.Table1.table1_global import make_table1\n",
    "from src.Table1.defs import *"
   ]
  },
  {
   "cell_type": "code",
   "execution_count": 360,
   "metadata": {},
   "outputs": [
    {
     "data": {
      "text/plain": [
       "Index(['index', 'yob', 'age', 'ever_married', 'urban', 'education', 'children',\n",
       "       'contraceptive_current', 'contraceptive_type', 'id',\n",
       "       'education_husband', 'bmi', 'occupation', 'want_children', 'pregnant',\n",
       "       'religion', 'household_residents', 'dead_children', 'Y', 'urban_bol',\n",
       "       'education_ord', 'education_husband_ord', 'occupation_not working',\n",
       "       'occupation_professional/technical/managerial', 'occupation_sales',\n",
       "       'occupation_agricultural - self employed',\n",
       "       'occupation_agricultural - employee',\n",
       "       'occupation_household and domestic', 'occupation_services',\n",
       "       'occupation_skilled manual', 'occupation_unskilled manual',\n",
       "       'want_children_wants within 2 years',\n",
       "       'want_children_wants after 2+ years',\n",
       "       'want_children_wants, unsure timing', 'want_children_undecided',\n",
       "       'want_children_wants no more',\n",
       "       'want_children_sterilized (respondent or partner)',\n",
       "       'want_children_declared infecund', 'religion_islam',\n",
       "       'religion_hinduism', 'religion_buddhism', 'religion_christianity',\n",
       "       'religion_other', 'T', 'Secondary Education'],\n",
       "      dtype='object')"
      ]
     },
     "execution_count": 360,
     "metadata": {},
     "output_type": "execute_result"
    }
   ],
   "source": [
    "d2.columns"
   ]
  },
  {
   "cell_type": "code",
   "execution_count": 361,
   "metadata": {},
   "outputs": [],
   "source": [
    "TABLE_COLS = ['yob', 'age',  'children','dead_children','pregnant','household_residents',  'bmi', 'urban_bol',\n",
    "              'Secondary Education', 'T', 'Y']\n",
    "\n",
    "TABLE_LABELS =['Year of birth', 'Age', 'Number of children', 'Dead children','Pregnant' ,\n",
    "               'Number of household residents', 'BMI', 'Urban','Secondary education',\n",
    "               'Higher education', 'Using contraception']\n",
    "\n",
    "TABEL_COLS_TYPE = ['continuous']*len(TABLE_COLS)\n",
    "\n",
    "TX_labels = {'1': 'Using contraception', '0': 'Not using contraception'}\n",
    "\n",
    "TX_col = 'Y'"
   ]
  },
  {
   "cell_type": "code",
   "execution_count": 362,
   "metadata": {},
   "outputs": [],
   "source": [
    "table1 = (\n",
    "    make_table1(d2, TABLE_COLS, TABLE_LABELS, TABEL_COLS_TYPE, TX_col, TX_labels, decimals=2).dropna(axis=1))\n",
    "table1.columns = ['All patients', 'Not using contraception' ,'Using contraception']"
   ]
  },
  {
   "cell_type": "code",
   "execution_count": 363,
   "metadata": {},
   "outputs": [
    {
     "data": {
      "text/html": [
       "<div>\n",
       "<style scoped>\n",
       "    .dataframe tbody tr th:only-of-type {\n",
       "        vertical-align: middle;\n",
       "    }\n",
       "\n",
       "    .dataframe tbody tr th {\n",
       "        vertical-align: top;\n",
       "    }\n",
       "\n",
       "    .dataframe thead th {\n",
       "        text-align: right;\n",
       "    }\n",
       "</style>\n",
       "<table border=\"1\" class=\"dataframe\">\n",
       "  <thead>\n",
       "    <tr style=\"text-align: right;\">\n",
       "      <th></th>\n",
       "      <th>All patients</th>\n",
       "      <th>Not using contraception</th>\n",
       "      <th>Using contraception</th>\n",
       "    </tr>\n",
       "  </thead>\n",
       "  <tbody>\n",
       "    <tr>\n",
       "      <th>N</th>\n",
       "      <td>15,524</td>\n",
       "      <td>5,818 (37.48%)</td>\n",
       "      <td>9,706 (62.52%)</td>\n",
       "    </tr>\n",
       "    <tr>\n",
       "      <th>Year of birth</th>\n",
       "      <td>1,981.63 (8.84)</td>\n",
       "      <td>1,979.84 (9.76)</td>\n",
       "      <td>1,982.71 (8.05)</td>\n",
       "    </tr>\n",
       "    <tr>\n",
       "      <th>Age</th>\n",
       "      <td>32.07 (8.83)</td>\n",
       "      <td>33.86 (9.75)</td>\n",
       "      <td>31.0 (8.04)</td>\n",
       "    </tr>\n",
       "    <tr>\n",
       "      <th>Number of children</th>\n",
       "      <td>2.71 (1.62)</td>\n",
       "      <td>2.8 (1.81)</td>\n",
       "      <td>2.66 (1.5)</td>\n",
       "    </tr>\n",
       "    <tr>\n",
       "      <th>Dead children</th>\n",
       "      <td>0.25 (0.6)</td>\n",
       "      <td>0.32 (0.69)</td>\n",
       "      <td>0.2 (0.53)</td>\n",
       "    </tr>\n",
       "    <tr>\n",
       "      <th>Pregnant</th>\n",
       "      <td>0.04 (0.19)</td>\n",
       "      <td>0.1 (0.3)</td>\n",
       "      <td>0.0 (0.0)</td>\n",
       "    </tr>\n",
       "    <tr>\n",
       "      <th>Number of household residents</th>\n",
       "      <td>5.38 (2.51)</td>\n",
       "      <td>5.33 (2.75)</td>\n",
       "      <td>5.41 (2.35)</td>\n",
       "    </tr>\n",
       "    <tr>\n",
       "      <th>BMI</th>\n",
       "      <td>22.39 (4.16)</td>\n",
       "      <td>22.24 (4.31)</td>\n",
       "      <td>22.48 (4.07)</td>\n",
       "    </tr>\n",
       "    <tr>\n",
       "      <th>Urban</th>\n",
       "      <td>0.33 (0.47)</td>\n",
       "      <td>0.3 (0.46)</td>\n",
       "      <td>0.34 (0.48)</td>\n",
       "    </tr>\n",
       "    <tr>\n",
       "      <th>Secondary education</th>\n",
       "      <td>0.36 (0.48)</td>\n",
       "      <td>0.33 (0.47)</td>\n",
       "      <td>0.38 (0.49)</td>\n",
       "    </tr>\n",
       "    <tr>\n",
       "      <th>Higher education</th>\n",
       "      <td>0.08 (0.28)</td>\n",
       "      <td>0.07 (0.25)</td>\n",
       "      <td>0.09 (0.29)</td>\n",
       "    </tr>\n",
       "    <tr>\n",
       "      <th>Using contraception</th>\n",
       "      <td>0.63 (0.48)</td>\n",
       "      <td>0.0 (0.0)</td>\n",
       "      <td>1.0 (0.0)</td>\n",
       "    </tr>\n",
       "  </tbody>\n",
       "</table>\n",
       "</div>"
      ],
      "text/plain": [
       "                                  All patients Not using contraception  \\\n",
       "N                                       15,524          5,818 (37.48%)   \n",
       "Year of birth                  1,981.63 (8.84)         1,979.84 (9.76)   \n",
       "Age                               32.07 (8.83)            33.86 (9.75)   \n",
       "Number of children                 2.71 (1.62)              2.8 (1.81)   \n",
       "Dead children                       0.25 (0.6)             0.32 (0.69)   \n",
       "Pregnant                           0.04 (0.19)               0.1 (0.3)   \n",
       "Number of household residents      5.38 (2.51)             5.33 (2.75)   \n",
       "BMI                               22.39 (4.16)            22.24 (4.31)   \n",
       "Urban                              0.33 (0.47)              0.3 (0.46)   \n",
       "Secondary education                0.36 (0.48)             0.33 (0.47)   \n",
       "Higher education                   0.08 (0.28)             0.07 (0.25)   \n",
       "Using contraception                0.63 (0.48)               0.0 (0.0)   \n",
       "\n",
       "                              Using contraception  \n",
       "N                                  9,706 (62.52%)  \n",
       "Year of birth                     1,982.71 (8.05)  \n",
       "Age                                   31.0 (8.04)  \n",
       "Number of children                     2.66 (1.5)  \n",
       "Dead children                          0.2 (0.53)  \n",
       "Pregnant                                0.0 (0.0)  \n",
       "Number of household residents         5.41 (2.35)  \n",
       "BMI                                  22.48 (4.07)  \n",
       "Urban                                 0.34 (0.48)  \n",
       "Secondary education                   0.38 (0.49)  \n",
       "Higher education                      0.09 (0.29)  \n",
       "Using contraception                     1.0 (0.0)  "
      ]
     },
     "execution_count": 363,
     "metadata": {},
     "output_type": "execute_result"
    }
   ],
   "source": [
    "round(table1,2)"
   ]
  },
  {
   "cell_type": "code",
   "execution_count": 364,
   "metadata": {},
   "outputs": [],
   "source": [
    "if higher:\n",
    "    table1.to_csv(os.path.join(fig_dir,'table1.csv'))\n",
    "else:\n",
    "    table1.to_csv(os.path.join(fig_dir,'table1_no_higher.csv'))"
   ]
  },
  {
   "cell_type": "code",
   "execution_count": 365,
   "metadata": {},
   "outputs": [
    {
     "data": {
      "text/html": [
       "<div>\n",
       "<style scoped>\n",
       "    .dataframe tbody tr th:only-of-type {\n",
       "        vertical-align: middle;\n",
       "    }\n",
       "\n",
       "    .dataframe tbody tr th {\n",
       "        vertical-align: top;\n",
       "    }\n",
       "\n",
       "    .dataframe thead th {\n",
       "        text-align: right;\n",
       "    }\n",
       "</style>\n",
       "<table border=\"1\" class=\"dataframe\">\n",
       "  <thead>\n",
       "    <tr style=\"text-align: right;\">\n",
       "      <th></th>\n",
       "      <th>education_ord</th>\n",
       "      <th>Y</th>\n",
       "      <th>education_ord_all_sum</th>\n",
       "      <th>not_Y</th>\n",
       "      <th>Y_prop</th>\n",
       "    </tr>\n",
       "  </thead>\n",
       "  <tbody>\n",
       "    <tr>\n",
       "      <th>0</th>\n",
       "      <td>0</td>\n",
       "      <td>2166</td>\n",
       "      <td>3888</td>\n",
       "      <td>1722</td>\n",
       "      <td>0.557099</td>\n",
       "    </tr>\n",
       "    <tr>\n",
       "      <th>1</th>\n",
       "      <td>1</td>\n",
       "      <td>2947</td>\n",
       "      <td>4708</td>\n",
       "      <td>1761</td>\n",
       "      <td>0.625956</td>\n",
       "    </tr>\n",
       "    <tr>\n",
       "      <th>2</th>\n",
       "      <td>2</td>\n",
       "      <td>3708</td>\n",
       "      <td>5647</td>\n",
       "      <td>1939</td>\n",
       "      <td>0.656632</td>\n",
       "    </tr>\n",
       "    <tr>\n",
       "      <th>3</th>\n",
       "      <td>3</td>\n",
       "      <td>885</td>\n",
       "      <td>1281</td>\n",
       "      <td>396</td>\n",
       "      <td>0.690867</td>\n",
       "    </tr>\n",
       "  </tbody>\n",
       "</table>\n",
       "</div>"
      ],
      "text/plain": [
       "   education_ord     Y  education_ord_all_sum  not_Y    Y_prop\n",
       "0              0  2166                   3888   1722  0.557099\n",
       "1              1  2947                   4708   1761  0.625956\n",
       "2              2  3708                   5647   1939  0.656632\n",
       "3              3   885                   1281    396  0.690867"
      ]
     },
     "execution_count": 365,
     "metadata": {},
     "output_type": "execute_result"
    }
   ],
   "source": [
    "education_table = d2[['Y','education_ord']].groupby('education_ord').Y.sum().reset_index()\n",
    "education_table['education_ord_all_sum'] = d2[['Y','education_ord']].groupby('education_ord').Y.count()\n",
    "education_table['not_Y'] = education_table.education_ord_all_sum - education_table.Y\n",
    "education_table['Y_prop'] = education_table.Y / education_table.education_ord_all_sum \n",
    "education_table"
   ]
  },
  {
   "cell_type": "code",
   "execution_count": 366,
   "metadata": {},
   "outputs": [
    {
     "name": "stdout",
     "output_type": "stream",
     "text": [
      " 69% of higher education use contraception\n"
     ]
    }
   ],
   "source": [
    "print(f' 69% of higher education use contraception')"
   ]
  },
  {
   "cell_type": "code",
   "execution_count": 367,
   "metadata": {},
   "outputs": [
    {
     "data": {
      "image/png": "[encoded data removed]",
      "text/plain": [
       "<Figure size 432x288 with 1 Axes>"
      ]
     },
     "metadata": {
      "needs_background": "light"
     },
     "output_type": "display_data"
    }
   ],
   "source": [
    "\n",
    "width = 0.35       # the width of the bars: can also be len(x) sequence\n",
    "\n",
    "p1 = plt.bar(education_table.education_ord, education_table.Y, width)\n",
    "p2 = plt.bar(education_table.education_ord, education_table.not_Y, width,\n",
    "             bottom=education_table.Y)\n",
    "\n",
    "plt.ylabel('Number of Women')\n",
    "plt.title('Education level by contraceptive use')\n",
    "plt.xticks(education_table.education_ord, ('no education', 'primary', 'secondary', 'higher'))\n",
    "#plt.yticks(np.arange(0, 81, 10))\n",
    "plt.legend((p1[0], p2[0]), ('Contrceptive use', 'Non-contrceptive use'))\n",
    "\n",
    "plt.tight_layout()\n",
    "\n",
    "plt.savefig(os.path.join(fig_dir,'Education_level_by_contraceptive_use.png'))"
   ]
  },
  {
   "cell_type": "markdown",
   "metadata": {},
   "source": [
    "## missing pie chart..."
   ]
  },
  {
   "cell_type": "markdown",
   "metadata": {},
   "source": [
    "# Helper functions"
   ]
  },
  {
   "cell_type": "code",
   "execution_count": 368,
   "metadata": {},
   "outputs": [],
   "source": [
    "def calc_propensity_score_sklearn_LR(X,T):\n",
    "\n",
    "    model = LogisticRegression(max_iter=500)\n",
    "    ps_model = model.fit(X=X, y=T)\n",
    "    pscores = ps_model.predict_proba(X)[:,1]\n",
    "    \n",
    "    return ps_model, pscores\n",
    "    \n",
    "def plot_pscores(data, title='propensity score of data LR'):\n",
    "    fig, ax = plt.subplots(nrows=1,ncols=1, figsize=plt.figaspect(0.5))\n",
    "      \n",
    "    labels = [0,1]\n",
    "    data_0 = data[data['T']==0]\n",
    "    data_1 = data[data['T']==1]\n",
    "    N_0 = data_0.shape[0]\n",
    "    N_1 = data_1.shape[0]\n",
    "\n",
    "    pscores_treated = data_1.ps\n",
    "    ax = sns.kdeplot(pscores_treated, shade=True, label=f'T={labels[1]} N=({N_1})', ax=ax, cut=3)\n",
    "    pscores_not_treated = data_0.ps\n",
    "    ax = sns.kdeplot(pscores_not_treated, shade=True, label=f'T={labels[0]} N=({N_0})', ax=ax)\n",
    "    ax.set_title(title)\n",
    "    ax.legend(loc=\"best\")\n",
    "    \n",
    "    fig.savefig(os.path.join(fig_dir, title+'.png'))"
   ]
  },
  {
   "cell_type": "code",
   "execution_count": 369,
   "metadata": {},
   "outputs": [
    {
     "data": {
      "text/plain": [
       "Index(['index', 'yob', 'age', 'ever_married', 'urban', 'education', 'children',\n",
       "       'contraceptive_current', 'contraceptive_type', 'id',\n",
       "       'education_husband', 'bmi', 'occupation', 'want_children', 'pregnant',\n",
       "       'religion', 'household_residents', 'dead_children', 'Y', 'urban_bol',\n",
       "       'education_ord', 'education_husband_ord', 'occupation_not working',\n",
       "       'occupation_professional/technical/managerial', 'occupation_sales',\n",
       "       'occupation_agricultural - self employed',\n",
       "       'occupation_agricultural - employee',\n",
       "       'occupation_household and domestic', 'occupation_services',\n",
       "       'occupation_skilled manual', 'occupation_unskilled manual',\n",
       "       'want_children_wants within 2 years',\n",
       "       'want_children_wants after 2+ years',\n",
       "       'want_children_wants, unsure timing', 'want_children_undecided',\n",
       "       'want_children_wants no more',\n",
       "       'want_children_sterilized (respondent or partner)',\n",
       "       'want_children_declared infecund', 'religion_islam',\n",
       "       'religion_hinduism', 'religion_buddhism', 'religion_christianity',\n",
       "       'religion_other', 'T', 'Secondary Education'],\n",
       "      dtype='object')"
      ]
     },
     "execution_count": 369,
     "metadata": {},
     "output_type": "execute_result"
    }
   ],
   "source": [
    "d2.columns"
   ]
  },
  {
   "cell_type": "code",
   "execution_count": 370,
   "metadata": {},
   "outputs": [],
   "source": [
    "cols_to_drop = ['index', 'ever_married', 'urban','education','contraceptive_current',\n",
    "                'contraceptive_type','id','occupation', 'religion',\n",
    "                 'want_children','education_ord','education_husband']\n",
    "if higher:\n",
    "    cols_to_drop.append('Secondary Education')\n",
    "d22 = d2.drop(columns=cols_to_drop)\n",
    "# d22 = d2[['yob', 'age','children','T', 'urban_bol', 'Y']]"
   ]
  },
  {
   "cell_type": "code",
   "execution_count": 371,
   "metadata": {},
   "outputs": [],
   "source": [
    "X1 = d22.drop(columns=['T','Y']).copy()\n",
    "T1 = d22['T'] \n",
    "Y1 = d22['Y']"
   ]
  },
  {
   "cell_type": "code",
   "execution_count": 372,
   "metadata": {},
   "outputs": [],
   "source": [
    "scale_columns = ['yob', 'age', 'children', 'bmi',\n",
    "       'household_residents', 'dead_children','education_husband_ord']\n",
    "X1[scale_columns] = preprocessing.scale(X1[scale_columns])"
   ]
  },
  {
   "cell_type": "markdown",
   "metadata": {},
   "source": [
    "## Propensity Score - using Logistic Regression  "
   ]
  },
  {
   "cell_type": "code",
   "execution_count": 376,
   "metadata": {},
   "outputs": [],
   "source": [
    "ps_model, pscores = calc_propensity_score_sklearn_LR(X=X1, T=T1)\n",
    "data1_copy = d22.copy()\n",
    "data1_copy['ps'] = pscores"
   ]
  },
  {
   "cell_type": "code",
   "execution_count": 377,
   "metadata": {},
   "outputs": [
    {
     "data": {
      "image/png": "[encoded data removed]",
      "text/plain": [
       "<Figure size 576x288 with 1 Axes>"
      ]
     },
     "metadata": {
      "needs_background": "light"
     },
     "output_type": "display_data"
    }
   ],
   "source": [
    "plot_pscores(data=data1_copy)"
   ]
  },
  {
   "cell_type": "markdown",
   "metadata": {},
   "source": [
    "# Matching "
   ]
  },
  {
   "cell_type": "code",
   "execution_count": 382,
   "metadata": {},
   "outputs": [],
   "source": [
    "def plot_pscores2(datasets, titles=['propensity score of data LR','propensity score of data2 LR']):\n",
    "    ncols = len(datasets)\n",
    "    fig, ax = plt.subplots(nrows=1,ncols=ncols, figsize=plt.figaspect(0.5))\n",
    "    for i, data in enumerate(datasets):      \n",
    "        labels = [0,1]\n",
    "        data_0 = data[data['T']==0]\n",
    "        data_1 = data[data['T']==1]\n",
    "        N_0 = data_0.shape[0]\n",
    "        N_1 = data_1.shape[0]\n",
    "        \n",
    "        pscores_treated = data_1.ps\n",
    "        ax[i] = sns.kdeplot(pscores_treated, shade=True, label=f'T={labels[1]} N=({N_1})', ax=ax[i])\n",
    "        pscores_not_treated = data_0.ps\n",
    "        ax[i] = sns.kdeplot(pscores_not_treated, shade=True, label=f'T={labels[0]} N=({N_0})', ax=ax[i])\n",
    "        ax[i].set_title(titles[i])\n",
    "        ax[i].legend(loc=\"best\")\n",
    "        \n",
    "        fig.suptitle(title, fontsize=14)\n",
    "        fig.savefig(os.path.join(fig_dir, 'ps before and after matching' +title+ '.png'))"
   ]
  },
  {
   "cell_type": "code",
   "execution_count": 383,
   "metadata": {},
   "outputs": [],
   "source": [
    "def find_propensity_score_matches(X, TX_col, pscore_col, caliper=0.25, distance='linear'):\n",
    "    \"\"\"\n",
    "    Treatment group should be smaller\n",
    "    \"\"\"\n",
    "    \n",
    "    idx_A0 = X[TX_col]==0\n",
    "    idx_A1 = X[TX_col]==1\n",
    "    \n",
    "    X_T1, X_T0 = X[idx_A1].copy(), X[idx_A0].copy()\n",
    "    N1, N0 = len(X_T1), len(X_T0)\n",
    "    g1, g0 = X_T1.loc[:,pscore_col].copy(),  X_T0.loc[:,pscore_col].copy()\n",
    "    \n",
    "    # get caliper_value (default is 0.25 logit stdevs\n",
    "    caliper_value = caliper * logit(X[pscore_col]).std()\n",
    "\n",
    "    # Randomly permute the smaller group to get order for matching\n",
    "    g1_idx_order = np.random.permutation(g1.index)\n",
    "    for g1_idx in g1_idx_order:\n",
    "        \n",
    "        if distance=='linear': # linear propensity score (on the logits)\n",
    "            dist = np.abs(logit(g1[g1_idx]) - logit(g0))\n",
    "        else: # regular propensity score\n",
    "            dist = np.abs(g1[g1_idx] - g0)\n",
    "        \n",
    "        \n",
    "        if dist.min() <= caliper_value:\n",
    "            g0_idx = dist.idxmin()\n",
    "            X_T1.loc[g1_idx, 'matched_control_idx'] = g0_idx\n",
    "            X_T0.loc[g0_idx, 'matched_control_idx'] = g0_idx\n",
    "            g0 = g0.drop(g0_idx)\n",
    "        else:\n",
    "            X_T1.loc[g1_idx, 'matched_control_idx'] = np.nan        \n",
    "            \n",
    "    X_matched = pd.concat([X_T1, X_T0])\n",
    "    return X_matched"
   ]
  },
  {
   "cell_type": "code",
   "execution_count": 384,
   "metadata": {},
   "outputs": [],
   "source": [
    "data_matched = find_propensity_score_matches(data1_copy, 'T', 'ps', caliper=0.25, distance='linear')\n",
    "data_matched.dropna(subset=['matched_control_idx'],inplace=True)\n"
   ]
  },
  {
   "cell_type": "code",
   "execution_count": 385,
   "metadata": {},
   "outputs": [
    {
     "data": {
      "image/png": "[encoded data removed]",
      "text/plain": [
       "<Figure size 576x288 with 2 Axes>"
      ]
     },
     "metadata": {
      "needs_background": "light"
     },
     "output_type": "display_data"
    }
   ],
   "source": [
    "(plot_pscores2(datasets=[data1_copy,data_matched],\n",
    "               titles=['Before matching','After matching']))\n"
   ]
  },
  {
   "cell_type": "markdown",
   "metadata": {},
   "source": [
    "# Estimating ATE + ATT"
   ]
  },
  {
   "cell_type": "code",
   "execution_count": null,
   "metadata": {},
   "outputs": [],
   "source": [
    "ATT_pd = pd.DataFrame(columns=['Type','data1'])\n",
    "att_dict1 = {}"
   ]
  },
  {
   "cell_type": "markdown",
   "metadata": {},
   "source": [
    "# Estimating ATT by Inverse Propensity Score Weighting (IPW)"
   ]
  },
  {
   "cell_type": "markdown",
   "metadata": {},
   "source": [
    "Under ignorability for ATE we use the following formula:\n",
    "\\begin{equation}\n",
    "\\frac{1}{n}\\sum_{i=1}^{n}{\\frac{y_i t_i}{e_i}} - \\frac{1}{n}\\sum_{i=1}^{n}{\\frac{y_i (1-t_i)}{1-e_i}}\n",
    "\\end{equation}\n",
    "\n",
    "The weights described previously ($w_ATE= \\frac{Z}{e} +\\frac{1-Z}{1-e}$) permit estimation of the ATE. However, a different set of weights permit estimation of the average treatment effect in the treated (ATT): $w_ATT = Z +\\frac{e \\cdot(1−Z)}{1 − e}$[18]. These weights are obtained by multiplying the conventional weights by e , so that treated subjects receive a weight of one. Thus, the treated sample is being used as the reference population to which the treated and control samples are being standardized. While the current article is focused on the use of the ATE weights, the balance diagnostics discussed are equally applicable to situations in which the ATT weights are employed.\n",
    "\n",
    "So We calculate:\n",
    "\n",
    "\\begin{equation}\n",
    "\\frac{1}{n}\\sum_{i=1}^{n}{y_i t_i} - \\frac{1}{n}\\sum_{i=1}^{n}{y_i (1-t_i) \\frac{e_i}{1-e_i}}\n",
    "\\end{equation}"
   ]
  },
  {
   "cell_type": "code",
   "execution_count": null,
   "metadata": {},
   "outputs": [],
   "source": [
    "ATE1 = (Y1*T1*(1/data1_copy.ps)).mean() - (Y1*(1-T1)*(1/(1-data1_copy.ps))).mean()\n",
    "print(f\"The estimated ATE for data1 using IPW is {ATE1}\")\n",
    "ATT1 = (Y1*T1).mean() - (Y1*(1-T1)*(data1_copy.ps/(1-data1_copy.ps))).mean()\n",
    "print(f\"The estimated ATT for data1 using IPW is {ATT1}\")\n",
    "\n",
    "att_dict1['IPW'] =ATT1"
   ]
  },
  {
   "cell_type": "markdown",
   "metadata": {},
   "source": [
    "# Estimating ATT using Matching"
   ]
  },
  {
   "cell_type": "markdown",
   "metadata": {},
   "source": [
    "I use K-nearest neighbors as described here https://www.ncbi.nlm.nih.gov/pmc/articles/PMC2943670/ \"..Nearest neighbor matching nearly always estimates the ATT, as it matches control individuals to the treated group and discards controls who are not selected as matches.\""
   ]
  },
  {
   "cell_type": "markdown",
   "metadata": {},
   "source": [
    "### Using Uber matching\n"
   ]
  },
  {
   "cell_type": "code",
   "execution_count": null,
   "metadata": {},
   "outputs": [],
   "source": [
    "data1_copy.columns"
   ]
  },
  {
   "cell_type": "code",
   "execution_count": null,
   "metadata": {},
   "outputs": [],
   "source": [
    "from causalml.match import NearestNeighborMatch, create_table_one\n",
    "\n",
    "psm = NearestNeighborMatch(replace=False,\n",
    "                           ratio=1,\n",
    "                           random_state=42)\n",
    "\n",
    "features = data1_copy.drop(columns=['Y','T'])\n",
    "covariates = features.columns.tolist()\n",
    "\n",
    "matched1 = psm.match(data=data1_copy,treatment_col='T',score_cols=['ps'])"
   ]
  },
  {
   "cell_type": "code",
   "execution_count": null,
   "metadata": {},
   "outputs": [],
   "source": [
    "ATT1 = (matched1.Y*matched1['T'] - matched1.Y*(1-matched1['T'])).mean()\n",
    "print(f\"The estimated ATT for data1 using 1:1 matching on ps is {ATT1}\")\n",
    "att_dict1['1:1 ps matching'] =ATT1"
   ]
  },
  {
   "cell_type": "markdown",
   "metadata": {},
   "source": [
    "### Using my code"
   ]
  },
  {
   "cell_type": "code",
   "execution_count": null,
   "metadata": {},
   "outputs": [],
   "source": [
    "ATT1 = (data_matched.Y*data_matched['T'] - data_matched.Y*(1-data_matched['T'])).mean()\n",
    "print(f\"The estimated ATT for data1 using 1:1 matching on ps is {ATT1}\")\n",
    "att_dict1['1:1 ps matching'] =ATT1"
   ]
  },
  {
   "cell_type": "markdown",
   "metadata": {},
   "source": [
    "# Estimating ATT using S-Learner"
   ]
  },
  {
   "cell_type": "markdown",
   "metadata": {},
   "source": [
    "S-learner (single): fit a model with $t$ as feature on the entire sample:\n",
    "\\begin{equation}\n",
    "y \\approx \\hat{f}(x,t) \\\\\n",
    "ATT \\approx \\frac{1}{n}\\sum_{i=1}^{n}{\\hat{f}(x,1)} - \\frac{1}{n}\\sum_{i=1}^{n}{\\hat{f}(x,0)}\n",
    "\\end{equation}"
   ]
  },
  {
   "cell_type": "code",
   "execution_count": null,
   "metadata": {},
   "outputs": [],
   "source": [
    "train1, test1 = train_test_split(d22,test_size=0.33)\n",
    "\n",
    "x_train1, t_train1, y_train1 = train1.drop(columns=['T','Y']), train1['T'],train1['Y']\n",
    "x_test1, t_test1, y_test1 = test1.drop(columns=['T','Y']), test1['T'],test1['Y']\n"
   ]
  },
  {
   "cell_type": "code",
   "execution_count": null,
   "metadata": {},
   "outputs": [],
   "source": [
    "d22.columns"
   ]
  },
  {
   "cell_type": "markdown",
   "metadata": {},
   "source": [
    "## Logistic Regression"
   ]
  },
  {
   "cell_type": "code",
   "execution_count": null,
   "metadata": {},
   "outputs": [],
   "source": [
    "sc = preprocessing.StandardScaler()\n",
    "\n",
    "x_train1[['yob', 'age', 'children']] = sc.fit_transform(x_train1[['yob', 'age', 'children']])\n",
    "x_test1[['yob', 'age', 'children']] = sc.fit_transform(x_test1[['yob', 'age', 'children']])"
   ]
  },
  {
   "cell_type": "code",
   "execution_count": null,
   "metadata": {},
   "outputs": [],
   "source": [
    "LogReg_clf = LogisticRegression()\n",
    "LogReg_clf.fit(x_train1.join(t_train1),y_train1)"
   ]
  },
  {
   "cell_type": "code",
   "execution_count": null,
   "metadata": {},
   "outputs": [],
   "source": [
    "LogReg_clf.coef_"
   ]
  },
  {
   "cell_type": "code",
   "execution_count": null,
   "metadata": {},
   "outputs": [],
   "source": []
  },
  {
   "cell_type": "code",
   "execution_count": null,
   "metadata": {},
   "outputs": [],
   "source": [
    "accuracy = accuracy_score(LogReg_clf.predict(x_test1.join(t_test1)),y_test1)"
   ]
  },
  {
   "cell_type": "code",
   "execution_count": null,
   "metadata": {},
   "outputs": [],
   "source": [
    "print(f\"accuracy on the test set with LR is {round(accuracy,2)}\")"
   ]
  },
  {
   "cell_type": "code",
   "execution_count": null,
   "metadata": {},
   "outputs": [],
   "source": [
    "cols_to_drop = ['T', 'Y']\n",
    "d22_scaled = d22.copy()\n",
    "d22_scaled[['yob', 'age', 'children']] = sc.fit_transform(d22_scaled[['yob', 'age', 'children']])"
   ]
  },
  {
   "cell_type": "code",
   "execution_count": null,
   "metadata": {},
   "outputs": [],
   "source": [
    "X11 = d22_scaled[d22_scaled['T']==1].drop(columns=cols_to_drop)\n",
    "Y11 = d22_scaled[d22_scaled['T']==1].Y\n",
    "\n",
    "X11t = X11.copy()\n",
    "X11t['T']=1\n",
    "\n",
    "X11nt = X11.copy()\n",
    "X11nt['T']=0\n"
   ]
  },
  {
   "cell_type": "code",
   "execution_count": null,
   "metadata": {},
   "outputs": [],
   "source": []
  },
  {
   "cell_type": "code",
   "execution_count": null,
   "metadata": {},
   "outputs": [],
   "source": [
    "ATT1 = (LogReg_clf.predict(X11t)-LogReg_clf.predict(X11nt)).mean()\n",
    "print(f\"The estimated ATT using S-learner (LR) is {ATT1}\")\n",
    "att_dict1['S-learner (LR)'] =ATT1"
   ]
  },
  {
   "cell_type": "code",
   "execution_count": null,
   "metadata": {},
   "outputs": [],
   "source": [
    "pdatt = pd.DataFrame.from_dict(att_dict1,orient='index', columns=['ATT'])\n",
    "round(pdatt,4)"
   ]
  },
  {
   "cell_type": "code",
   "execution_count": null,
   "metadata": {},
   "outputs": [],
   "source": [
    "pdatt.to_csv(os.path.join(fig_dir,'att_table.csv'))"
   ]
  }
 ],
 "metadata": {
  "kernelspec": {
   "display_name": "Python 3",
   "language": "python",
   "name": "python3"
  },
  "language_info": {
   "codemirror_mode": {
    "name": "ipython",
    "version": 3
   },
   "file_extension": ".py",
   "mimetype": "text/x-python",
   "name": "python",
   "nbconvert_exporter": "python",
   "pygments_lexer": "ipython3",
   "version": "3.8.3"
  }
 },
 "nbformat": 4,
 "nbformat_minor": 4
}
