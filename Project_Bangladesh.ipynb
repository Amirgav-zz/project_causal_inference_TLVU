{
 "cells": [
  {
   "cell_type": "code",
   "execution_count": 137,
   "metadata": {},
   "outputs": [],
   "source": [
    "%matplotlib inline\n",
    "import pymc3 as pm\n",
    "import numpy as np\n",
    "import pandas as pd\n",
    "import matplotlib.pyplot as plt\n",
    "import seaborn as sns\n",
    "import matplotlib.pylab as plt\n",
    "import math\n",
    "import theano\n",
    "import theano.tensor as tt\n",
    "from scipy import stats\n",
    "from scipy.special import expit as logistic\n",
    "from scipy.special import logit\n",
    "from sklearn.linear_model import LogisticRegression\n",
    "from sklearn import preprocessing\n",
    "from sklearn.model_selection import train_test_split\n",
    "from sklearn.linear_model import LogisticRegression, LinearRegression\n",
    "from sklearn.ensemble import RandomForestClassifier, GradientBoostingClassifier, GradientBoostingRegressor, RandomForestRegressor\n",
    "from sklearn.model_selection import cross_val_predict, cross_val_score\n",
    "from sklearn.model_selection import RandomizedSearchCV\n",
    "from sklearn.metrics import auc, mean_squared_error, roc_curve, roc_auc_score, accuracy_score\n",
    "\n",
    "\n",
    "\n",
    "import matplotlib.pyplot as plt\n",
    "import altair as alt\n",
    "alt.data_transformers.enable('default', max_rows=None)\n",
    "import arviz as az\n",
    "\n",
    "import os\n",
    "\n",
    "import sys\n",
    "sys.path.insert(0, '/Users/amirgavrieli/PycharmProjects/statrethink_course_in_pymc3')\n",
    "sys.path.insert(0, '/Users/amirgavrieli/PycharmProjects/COVID19-ISRAEL')"
   ]
  },
  {
   "cell_type": "code",
   "execution_count": 47,
   "metadata": {},
   "outputs": [],
   "source": [
    "fig_dir = '/Users/amirgavrieli/Desktop/Graduate/Tel_Aviv_University_Courses/Uri_Shalit/project/figures'"
   ]
  },
  {
   "cell_type": "markdown",
   "metadata": {},
   "source": [
    "# Data proccesing "
   ]
  },
  {
   "cell_type": "code",
   "execution_count": 2,
   "metadata": {},
   "outputs": [],
   "source": [
    "# bangladesh v2 data\n",
    "dir_path = '/Users/amirgavrieli/Downloads/BDBR72DT'\n",
    "suffix = 'BDBR72FL.DTA'\n",
    "path = os.path.join(dir_path, suffix)\n",
    "dv2 = pd.read_stata(path)"
   ]
  },
  {
   "cell_type": "code",
   "execution_count": 3,
   "metadata": {},
   "outputs": [
    {
     "name": "stdout",
     "output_type": "stream",
     "text": [
      " there are 43772 surveys with 1159 features\n"
     ]
    }
   ],
   "source": [
    "print(f' there are {dv2.shape[0]} surveys with {dv2.shape[1]} features')"
   ]
  },
  {
   "cell_type": "code",
   "execution_count": 4,
   "metadata": {},
   "outputs": [],
   "source": [
    "dv2.drop_duplicates(keep='first', inplace=True)"
   ]
  },
  {
   "cell_type": "code",
   "execution_count": 5,
   "metadata": {},
   "outputs": [
    {
     "name": "stdout",
     "output_type": "stream",
     "text": [
      " there are 43772 surveys after droping duplicates\n"
     ]
    }
   ],
   "source": [
    "print(f' there are {dv2.shape[0]} surveys after droping duplicates')"
   ]
  },
  {
   "cell_type": "code",
   "execution_count": 6,
   "metadata": {},
   "outputs": [],
   "source": [
    "# v025 : rural urban\n",
    "# v106 : No education, Primary, Secondary, and Higher\n",
    "# V312 : Current contraceptive method\n",
    "# v313 : modern method, a traditional method, or a folkloric method\n",
    "# v315 month started taking contraceptive\n",
    "# v316 year started taking contraceptive\n",
    "column_dict = {'v010':'yob', 'v012':'age', 'v020':'ever_married',\n",
    "               'v025':'urban','v106':'education',  'v201':'children', \n",
    "               'v312':'contraceptive_current', 'v313': 'contraceptive_type',\n",
    "              'caseid':'id'}"
   ]
  },
  {
   "cell_type": "code",
   "execution_count": 7,
   "metadata": {},
   "outputs": [],
   "source": [
    "d2 = dv2[[c for c in column_dict.keys()]]\n",
    "d2 = d2.rename(columns=column_dict).copy()\n",
    "d2['Y'] = np.where(d2.contraceptive_current != 'not using',1,0)\n",
    "d2['urban_bol'] = np.where(d2.urban == 'urban',1,0)\n",
    "d2['id'] = (dv2['caseid'].astype(str)\n",
    "            .apply(lambda x: x.split(' '))\n",
    "            .apply(lambda x: ''.join(x))\n",
    "            .astype(int))\n",
    "edu_dict = {'no education':0, 'primary':1, 'secondary':2, 'higher':3}\n",
    "d2['education_ord'] = d2.education.replace(edu_dict)\n",
    "d2['T'] = np.where((d2.education_ord >=2) ,1,0)"
   ]
  },
  {
   "cell_type": "code",
   "execution_count": 8,
   "metadata": {},
   "outputs": [
    {
     "name": "stdout",
     "output_type": "stream",
     "text": [
      " there are 15927 unique women in the survey with 43772 surveys\n"
     ]
    }
   ],
   "source": [
    "print(f' there are {d2.id.nunique()} unique women in the survey with {d2.shape[0]} surveys')"
   ]
  },
  {
   "cell_type": "code",
   "execution_count": 9,
   "metadata": {},
   "outputs": [],
   "source": [
    "d2_dup = d2[d2.duplicated(subset='id',keep=False)]"
   ]
  },
  {
   "cell_type": "code",
   "execution_count": 10,
   "metadata": {},
   "outputs": [
    {
     "name": "stdout",
     "output_type": "stream",
     "text": [
      " there are 12007 women with multiple surveys\n"
     ]
    }
   ],
   "source": [
    "print(f' there are {d2_dup.id.nunique()} women with multiple surveys')"
   ]
  },
  {
   "cell_type": "markdown",
   "metadata": {},
   "source": [
    "##### We will drop duplicates on the limited columns"
   ]
  },
  {
   "cell_type": "code",
   "execution_count": 11,
   "metadata": {},
   "outputs": [],
   "source": [
    "d2.drop_duplicates(keep='first', inplace=True)"
   ]
  },
  {
   "cell_type": "code",
   "execution_count": 12,
   "metadata": {},
   "outputs": [
    {
     "name": "stdout",
     "output_type": "stream",
     "text": [
      " there are 16079 unique surveys of 15927\n"
     ]
    }
   ],
   "source": [
    "print(f' there are {d2.shape[0]} unique surveys of {d2.id.nunique()}')"
   ]
  },
  {
   "cell_type": "code",
   "execution_count": 13,
   "metadata": {},
   "outputs": [],
   "source": [
    "d2_dup = d2[d2.duplicated(subset='id',keep=False)]"
   ]
  },
  {
   "cell_type": "code",
   "execution_count": 14,
   "metadata": {},
   "outputs": [
    {
     "name": "stdout",
     "output_type": "stream",
     "text": [
      " there are 149 women with multiple surveys after droping duplicates\n"
     ]
    }
   ],
   "source": [
    "print(f' there are {d2_dup.id.nunique()} women with multiple surveys after droping duplicates')"
   ]
  },
  {
   "cell_type": "code",
   "execution_count": 15,
   "metadata": {},
   "outputs": [
    {
     "name": "stdout",
     "output_type": "stream",
     "text": [
      " There are 0 women who changed their education during the time of the survey\n"
     ]
    }
   ],
   "source": [
    "tmp = d2_dup.groupby('id').education_ord.count().reset_index()\n",
    "tmp2 = tmp[tmp.duplicated(keep=False)]\n",
    "print(f' There are {tmp2.shape[0]} women who changed their education during the time of the survey')"
   ]
  },
  {
   "cell_type": "code",
   "execution_count": 16,
   "metadata": {},
   "outputs": [
    {
     "name": "stdout",
     "output_type": "stream",
     "text": [
      "  there are 0 women who changed her contraceptive use between surveys\n"
     ]
    }
   ],
   "source": [
    "tmp = d2_dup.groupby('id').Y.count().reset_index()\n",
    "tmp2 = tmp[tmp.duplicated(keep=False)]\n",
    "print(f'  there are {tmp2.shape[0]} women who changed her contraceptive use between surveys')"
   ]
  },
  {
   "cell_type": "code",
   "execution_count": 17,
   "metadata": {},
   "outputs": [
    {
     "name": "stdout",
     "output_type": "stream",
     "text": [
      "We are left with 15927 surveys of 15927 women\n"
     ]
    }
   ],
   "source": [
    "d2.drop_duplicates(subset='id',keep='first', inplace=True)\n",
    "print(f'We are left with {d2.shape[0]} surveys of {d2.id.nunique()} women')"
   ]
  },
  {
   "cell_type": "markdown",
   "metadata": {},
   "source": [
    "# Data description"
   ]
  },
  {
   "cell_type": "code",
   "execution_count": 36,
   "metadata": {},
   "outputs": [],
   "source": [
    "from src.Table1.table1_global import make_table1\n",
    "from src.Table1.defs import *"
   ]
  },
  {
   "cell_type": "code",
   "execution_count": 37,
   "metadata": {},
   "outputs": [
    {
     "data": {
      "text/plain": [
       "Index(['yob', 'age', 'ever_married', 'urban', 'education', 'children',\n",
       "       'contraceptive_current', 'contraceptive_type', 'id', 'Y', 'urban_bol',\n",
       "       'education_ord', 'T'],\n",
       "      dtype='object')"
      ]
     },
     "execution_count": 37,
     "metadata": {},
     "output_type": "execute_result"
    }
   ],
   "source": [
    "d2.columns"
   ]
  },
  {
   "cell_type": "code",
   "execution_count": 70,
   "metadata": {},
   "outputs": [],
   "source": [
    "TABLE_COLS = ['yob', 'age',  'children', 'T', 'urban_bol', 'Y']\n",
    "\n",
    "TABLE_LABELS =['Year of birth', 'Age', 'Number of children', \n",
    "               'Secondary education or higher', 'Urban', 'Using contraception']\n",
    "\n",
    "TABEL_COLS_TYPE = ['continuous','continuous', 'continuous', 'continuous','continuous','continuous' ]\n",
    "\n",
    "TX_labels = {'1': 'Using contraception', '0': 'Not using contraception'}\n",
    "\n",
    "TX_col = 'Y'"
   ]
  },
  {
   "cell_type": "code",
   "execution_count": 71,
   "metadata": {},
   "outputs": [],
   "source": [
    "table1 = (\n",
    "    make_table1(d2, TABLE_COLS, TABLE_LABELS, TABEL_COLS_TYPE, TX_col, TX_labels, decimals=2).dropna(axis=1))\n",
    "table1.columns = ['All patients', 'Using contraception' ,'Not using contraception']"
   ]
  },
  {
   "cell_type": "code",
   "execution_count": 72,
   "metadata": {},
   "outputs": [
    {
     "data": {
      "text/html": [
       "<div>\n",
       "<style scoped>\n",
       "    .dataframe tbody tr th:only-of-type {\n",
       "        vertical-align: middle;\n",
       "    }\n",
       "\n",
       "    .dataframe tbody tr th {\n",
       "        vertical-align: top;\n",
       "    }\n",
       "\n",
       "    .dataframe thead th {\n",
       "        text-align: right;\n",
       "    }\n",
       "</style>\n",
       "<table border=\"1\" class=\"dataframe\">\n",
       "  <thead>\n",
       "    <tr style=\"text-align: right;\">\n",
       "      <th></th>\n",
       "      <th>All patients</th>\n",
       "      <th>Using contraception</th>\n",
       "      <th>Not using contraception</th>\n",
       "    </tr>\n",
       "  </thead>\n",
       "  <tbody>\n",
       "    <tr>\n",
       "      <th>N</th>\n",
       "      <td>15,927</td>\n",
       "      <td>6,007 (37.72%)</td>\n",
       "      <td>9,920 (62.28%)</td>\n",
       "    </tr>\n",
       "    <tr>\n",
       "      <th>Year of birth</th>\n",
       "      <td>1,981.62 (8.83)</td>\n",
       "      <td>1,979.81 (9.74)</td>\n",
       "      <td>1,982.71 (8.04)</td>\n",
       "    </tr>\n",
       "    <tr>\n",
       "      <th>Age</th>\n",
       "      <td>32.09 (8.82)</td>\n",
       "      <td>33.89 (9.73)</td>\n",
       "      <td>31.0 (8.03)</td>\n",
       "    </tr>\n",
       "    <tr>\n",
       "      <th>Number of children</th>\n",
       "      <td>2.72 (1.63)</td>\n",
       "      <td>2.81 (1.82)</td>\n",
       "      <td>2.66 (1.5)</td>\n",
       "    </tr>\n",
       "    <tr>\n",
       "      <th>Secondary education or higher</th>\n",
       "      <td>0.45 (0.5)</td>\n",
       "      <td>0.4 (0.49)</td>\n",
       "      <td>0.47 (0.5)</td>\n",
       "    </tr>\n",
       "    <tr>\n",
       "      <th>Urban</th>\n",
       "      <td>0.34 (0.47)</td>\n",
       "      <td>0.32 (0.47)</td>\n",
       "      <td>0.35 (0.48)</td>\n",
       "    </tr>\n",
       "    <tr>\n",
       "      <th>Using contraception</th>\n",
       "      <td>0.62 (0.48)</td>\n",
       "      <td>0.0 (0.0)</td>\n",
       "      <td>1.0 (0.0)</td>\n",
       "    </tr>\n",
       "  </tbody>\n",
       "</table>\n",
       "</div>"
      ],
      "text/plain": [
       "                                  All patients Using contraception  \\\n",
       "N                                       15,927      6,007 (37.72%)   \n",
       "Year of birth                  1,981.62 (8.83)     1,979.81 (9.74)   \n",
       "Age                               32.09 (8.82)        33.89 (9.73)   \n",
       "Number of children                 2.72 (1.63)         2.81 (1.82)   \n",
       "Secondary education or higher       0.45 (0.5)          0.4 (0.49)   \n",
       "Urban                              0.34 (0.47)         0.32 (0.47)   \n",
       "Using contraception                0.62 (0.48)           0.0 (0.0)   \n",
       "\n",
       "                              Not using contraception  \n",
       "N                                      9,920 (62.28%)  \n",
       "Year of birth                         1,982.71 (8.04)  \n",
       "Age                                       31.0 (8.03)  \n",
       "Number of children                         2.66 (1.5)  \n",
       "Secondary education or higher              0.47 (0.5)  \n",
       "Urban                                     0.35 (0.48)  \n",
       "Using contraception                         1.0 (0.0)  "
      ]
     },
     "execution_count": 72,
     "metadata": {},
     "output_type": "execute_result"
    }
   ],
   "source": [
    "round(table1,2)"
   ]
  },
  {
   "cell_type": "code",
   "execution_count": 74,
   "metadata": {},
   "outputs": [],
   "source": [
    "table1.to_csv(os.path.join(fig_dir,'table1.csv'))"
   ]
  },
  {
   "cell_type": "code",
   "execution_count": 98,
   "metadata": {},
   "outputs": [
    {
     "data": {
      "text/html": [
       "<div>\n",
       "<style scoped>\n",
       "    .dataframe tbody tr th:only-of-type {\n",
       "        vertical-align: middle;\n",
       "    }\n",
       "\n",
       "    .dataframe tbody tr th {\n",
       "        vertical-align: top;\n",
       "    }\n",
       "\n",
       "    .dataframe thead th {\n",
       "        text-align: right;\n",
       "    }\n",
       "</style>\n",
       "<table border=\"1\" class=\"dataframe\">\n",
       "  <thead>\n",
       "    <tr style=\"text-align: right;\">\n",
       "      <th></th>\n",
       "      <th>education_ord</th>\n",
       "      <th>Y</th>\n",
       "      <th>education_ord_all_sum</th>\n",
       "      <th>not_Y</th>\n",
       "      <th>Y_prop</th>\n",
       "    </tr>\n",
       "  </thead>\n",
       "  <tbody>\n",
       "    <tr>\n",
       "      <th>0</th>\n",
       "      <td>0</td>\n",
       "      <td>2231</td>\n",
       "      <td>4017</td>\n",
       "      <td>1786</td>\n",
       "      <td>0.555390</td>\n",
       "    </tr>\n",
       "    <tr>\n",
       "      <th>1</th>\n",
       "      <td>1</td>\n",
       "      <td>3006</td>\n",
       "      <td>4818</td>\n",
       "      <td>1812</td>\n",
       "      <td>0.623910</td>\n",
       "    </tr>\n",
       "    <tr>\n",
       "      <th>2</th>\n",
       "      <td>2</td>\n",
       "      <td>3773</td>\n",
       "      <td>5766</td>\n",
       "      <td>1993</td>\n",
       "      <td>0.654353</td>\n",
       "    </tr>\n",
       "    <tr>\n",
       "      <th>3</th>\n",
       "      <td>3</td>\n",
       "      <td>910</td>\n",
       "      <td>1326</td>\n",
       "      <td>416</td>\n",
       "      <td>0.686275</td>\n",
       "    </tr>\n",
       "  </tbody>\n",
       "</table>\n",
       "</div>"
      ],
      "text/plain": [
       "   education_ord     Y  education_ord_all_sum  not_Y    Y_prop\n",
       "0              0  2231                   4017   1786  0.555390\n",
       "1              1  3006                   4818   1812  0.623910\n",
       "2              2  3773                   5766   1993  0.654353\n",
       "3              3   910                   1326    416  0.686275"
      ]
     },
     "execution_count": 98,
     "metadata": {},
     "output_type": "execute_result"
    }
   ],
   "source": [
    "education_table = d2[['Y','education_ord']].groupby('education_ord').Y.sum().reset_index()\n",
    "education_table['education_ord_all_sum'] = d2[['Y','education_ord']].groupby('education_ord').Y.count()\n",
    "education_table['not_Y'] = education_table.education_ord_all_sum - education_table.Y\n",
    "education_table['Y_prop'] = education_table.Y / education_table.education_ord_all_sum \n",
    "education_table"
   ]
  },
  {
   "cell_type": "code",
   "execution_count": 100,
   "metadata": {},
   "outputs": [
    {
     "name": "stdout",
     "output_type": "stream",
     "text": [
      " 69% of higher education use contraception\n"
     ]
    }
   ],
   "source": [
    "print(f' 69% of higher education use contraception')"
   ]
  },
  {
   "cell_type": "code",
   "execution_count": 97,
   "metadata": {},
   "outputs": [
    {
     "data": {
      "image/png": "[encoded data removed]",
      "text/plain": [
       "<Figure size 432x288 with 1 Axes>"
      ]
     },
     "metadata": {
      "needs_background": "light"
     },
     "output_type": "display_data"
    }
   ],
   "source": [
    "\n",
    "width = 0.35       # the width of the bars: can also be len(x) sequence\n",
    "\n",
    "p1 = plt.bar(education_table.education_ord, education_table.Y, width)\n",
    "p2 = plt.bar(education_table.education_ord, education_table.not_Y, width,\n",
    "             bottom=education_table.Y)\n",
    "\n",
    "plt.ylabel('Number of Women')\n",
    "plt.title('Education level by contraceptive use')\n",
    "plt.xticks(education_table.education_ord, ('no education', 'primary', 'secondary', 'higher'))\n",
    "#plt.yticks(np.arange(0, 81, 10))\n",
    "plt.legend((p1[0], p2[0]), ('Contrceptive use', 'Non-contrceptive use'))\n",
    "\n",
    "plt.tight_layout()\n",
    "\n",
    "plt.savefig(os.path.join(fig_dir,'Education_level_by_contraceptive_use.png'))"
   ]
  },
  {
   "cell_type": "markdown",
   "metadata": {},
   "source": [
    "# Helper functions"
   ]
  },
  {
   "cell_type": "code",
   "execution_count": 102,
   "metadata": {},
   "outputs": [],
   "source": [
    "def calc_propensity_score_sklearn_LR(X,T):\n",
    "\n",
    "    model = LogisticRegression(max_iter=500)\n",
    "    ps_model = model.fit(X=X, y=T)\n",
    "    pscores = ps_model.predict_proba(X)[:,1]\n",
    "    \n",
    "    return ps_model, pscores\n",
    "    \n",
    "def plot_pscores(data, title='propensity score of data LR'):\n",
    "    fig, ax = plt.subplots(nrows=1,ncols=1, figsize=plt.figaspect(0.5))\n",
    "      \n",
    "    labels = [0,1]\n",
    "    data_0 = data[data['T']==0]\n",
    "    data_1 = data[data['T']==1]\n",
    "    N_0 = data_0.shape[0]\n",
    "    N_1 = data_1.shape[0]\n",
    "\n",
    "    pscores_treated = data_1.ps\n",
    "    ax = sns.kdeplot(pscores_treated, shade=True, label=f'T={labels[1]} N=({N_1})', ax=ax, cut=3)\n",
    "    pscores_not_treated = data_0.ps\n",
    "    ax = sns.kdeplot(pscores_not_treated, shade=True, label=f'T={labels[0]} N=({N_0})', ax=ax)\n",
    "    ax.set_title(title)\n",
    "    ax.legend(loc=\"best\")\n",
    "    \n",
    "    fig.savefig(os.path.join(fig_dir, title+'.png'))"
   ]
  },
  {
   "cell_type": "code",
   "execution_count": 20,
   "metadata": {},
   "outputs": [],
   "source": [
    "d22 = d2[['yob', 'age','children','T', 'urban_bol', 'Y']]"
   ]
  },
  {
   "cell_type": "code",
   "execution_count": 21,
   "metadata": {},
   "outputs": [],
   "source": [
    "X1 = d22[['yob', 'age','children', 'urban_bol']].copy()\n",
    "T1 = d22['T'] \n",
    "Y1 = d22['Y']"
   ]
  },
  {
   "cell_type": "markdown",
   "metadata": {},
   "source": [
    "## Propensity Score - using Logistic Regression  "
   ]
  },
  {
   "cell_type": "code",
   "execution_count": 22,
   "metadata": {},
   "outputs": [],
   "source": [
    "ps_model, pscores = calc_propensity_score_sklearn_LR(X=X1, T=T1)\n",
    "data1_copy = d22.copy()\n",
    "data1_copy['ps'] = pscores"
   ]
  },
  {
   "cell_type": "code",
   "execution_count": 103,
   "metadata": {},
   "outputs": [
    {
     "data": {
      "image/png": "[encoded data removed]",
      "text/plain": [
       "<Figure size 576x288 with 1 Axes>"
      ]
     },
     "metadata": {
      "needs_background": "light"
     },
     "output_type": "display_data"
    }
   ],
   "source": [
    "plot_pscores(data=data1_copy)"
   ]
  },
  {
   "cell_type": "markdown",
   "metadata": {},
   "source": [
    "# Matching "
   ]
  },
  {
   "cell_type": "code",
   "execution_count": 108,
   "metadata": {},
   "outputs": [],
   "source": [
    "def plot_pscores2(datasets, titles=['propensity score of data LR','propensity score of data2 LR']):\n",
    "    ncols = len(datasets)\n",
    "    fig, ax = plt.subplots(nrows=1,ncols=ncols, figsize=plt.figaspect(0.5))\n",
    "    for i, data in enumerate(datasets):      \n",
    "        labels = [0,1]\n",
    "        data_0 = data[data['T']==0]\n",
    "        data_1 = data[data['T']==1]\n",
    "        N_0 = data_0.shape[0]\n",
    "        N_1 = data_1.shape[0]\n",
    "        \n",
    "        pscores_treated = data_1.ps\n",
    "        ax[i] = sns.kdeplot(pscores_treated, shade=True, label=f'T={labels[1]} N=({N_1})', ax=ax[i])\n",
    "        pscores_not_treated = data_0.ps\n",
    "        ax[i] = sns.kdeplot(pscores_not_treated, shade=True, label=f'T={labels[0]} N=({N_0})', ax=ax[i])\n",
    "        ax[i].set_title(titles[i])\n",
    "        ax[i].legend(loc=\"best\")\n",
    "    \n",
    "        fig.savefig(os.path.join(fig_dir, 'Propensity score before and after matching.png'))"
   ]
  },
  {
   "cell_type": "code",
   "execution_count": 106,
   "metadata": {},
   "outputs": [],
   "source": [
    "def find_propensity_score_matches(X, TX_col, pscore_col, caliper=0.25, distance='linear'):\n",
    "    \"\"\"\n",
    "    Treatment group should be smaller\n",
    "    \"\"\"\n",
    "    \n",
    "    idx_A0 = X[TX_col]==0\n",
    "    idx_A1 = X[TX_col]==1\n",
    "    \n",
    "    X_T1, X_T0 = X[idx_A1].copy(), X[idx_A0].copy()\n",
    "    N1, N0 = len(X_T1), len(X_T0)\n",
    "    g1, g0 = X_T1.loc[:,pscore_col].copy(),  X_T0.loc[:,pscore_col].copy()\n",
    "    \n",
    "    # get caliper_value (default is 0.25 logit stdevs\n",
    "    caliper_value = caliper * logit(X[pscore_col]).std()\n",
    "\n",
    "    # Randomly permute the smaller group to get order for matching\n",
    "    g1_idx_order = np.random.permutation(g1.index)\n",
    "    for g1_idx in g1_idx_order:\n",
    "        \n",
    "        if distance=='linear': # linear propensity score (on the logits)\n",
    "            dist = np.abs(logit(g1[g1_idx]) - logit(g0))\n",
    "        else: # regular propensity score\n",
    "            dist = np.abs(g1[g1_idx] - g0)\n",
    "        \n",
    "        \n",
    "        if dist.min() <= caliper_value:\n",
    "            g0_idx = dist.idxmin()\n",
    "            X_T1.loc[g1_idx, 'matched_control_idx'] = g0_idx\n",
    "            X_T0.loc[g0_idx, 'matched_control_idx'] = g0_idx\n",
    "            g0 = g0.drop(g0_idx)\n",
    "        else:\n",
    "            X_T1.loc[g1_idx, 'matched_control_idx'] = np.nan        \n",
    "            \n",
    "    X_matched = pd.concat([X_T1, X_T0])\n",
    "    return X_matched"
   ]
  },
  {
   "cell_type": "code",
   "execution_count": 109,
   "metadata": {},
   "outputs": [
    {
     "data": {
      "image/png": "[encoded data removed]",
      "text/plain": [
       "<Figure size 576x288 with 2 Axes>"
      ]
     },
     "metadata": {
      "needs_background": "light"
     },
     "output_type": "display_data"
    }
   ],
   "source": [
    "data_matched = find_propensity_score_matches(data1_copy, 'T', 'ps', caliper=0.25, distance='linear')\n",
    "data_matched.dropna(subset=['matched_control_idx'],inplace=True)\n",
    "plot_pscores2(datasets=[data1_copy,data_matched],titles=['propensity score of data','propensity score of data after matching'])"
   ]
  },
  {
   "cell_type": "markdown",
   "metadata": {},
   "source": [
    "# Estimating ATT"
   ]
  },
  {
   "cell_type": "code",
   "execution_count": 110,
   "metadata": {},
   "outputs": [],
   "source": [
    "ATT_pd = pd.DataFrame(columns=['Type','data1'])\n",
    "att_dict1 = {}"
   ]
  },
  {
   "cell_type": "markdown",
   "metadata": {},
   "source": [
    "# Estimating ATT by Inverse Propensity Score Weighting (IPW)"
   ]
  },
  {
   "cell_type": "markdown",
   "metadata": {},
   "source": [
    "Under ignorability for ATE we use the following formula:\n",
    "\\begin{equation}\n",
    "\\frac{1}{n}\\sum_{i=1}^{n}{\\frac{y_i t_i}{e_i}} - \\frac{1}{n}\\sum_{i=1}^{n}{\\frac{y_i (1-t_i)}{1-e_i}}\n",
    "\\end{equation}\n",
    "\n",
    "The weights described previously ($w_ATE= \\frac{Z}{e} +\\frac{1-Z}{1-e}$) permit estimation of the ATE. However, a different set of weights permit estimation of the average treatment effect in the treated (ATT): $w_ATT = Z +\\frac{e \\cdot(1−Z)}{1 − e}$[18]. These weights are obtained by multiplying the conventional weights by e , so that treated subjects receive a weight of one. Thus, the treated sample is being used as the reference population to which the treated and control samples are being standardized. While the current article is focused on the use of the ATE weights, the balance diagnostics discussed are equally applicable to situations in which the ATT weights are employed.\n",
    "\n",
    "So We calculate:\n",
    "\n",
    "\\begin{equation}\n",
    "\\frac{1}{n}\\sum_{i=1}^{n}{y_i t_i} - \\frac{1}{n}\\sum_{i=1}^{n}{y_i (1-t_i) \\frac{e_i}{1-e_i}}\n",
    "\\end{equation}"
   ]
  },
  {
   "cell_type": "code",
   "execution_count": 111,
   "metadata": {},
   "outputs": [
    {
     "name": "stdout",
     "output_type": "stream",
     "text": [
      "The estimated ATE for data1 using IPW is 0.040815650441747175\n",
      "The estimated ATT for data1 using IPW is 0.02136026604603275\n"
     ]
    }
   ],
   "source": [
    "ATE1 = (Y1*T1*(1/data1_copy.ps)).mean() - (Y1*(1-T1)*(1/(1-data1_copy.ps))).mean()\n",
    "print(f\"The estimated ATE for data1 using IPW is {ATE1}\")\n",
    "ATT1 = (Y1*T1).mean() - (Y1*(1-T1)*(data1_copy.ps/(1-data1_copy.ps))).mean()\n",
    "print(f\"The estimated ATT for data1 using IPW is {ATT1}\")\n",
    "\n",
    "att_dict1['IPW'] =ATT1"
   ]
  },
  {
   "cell_type": "markdown",
   "metadata": {},
   "source": [
    "# Estimating ATT using Matching"
   ]
  },
  {
   "cell_type": "markdown",
   "metadata": {},
   "source": [
    "I use K-nearest neighbors as described here https://www.ncbi.nlm.nih.gov/pmc/articles/PMC2943670/ \"..Nearest neighbor matching nearly always estimates the ATT, as it matches control individuals to the treated group and discards controls who are not selected as matches.\""
   ]
  },
  {
   "cell_type": "markdown",
   "metadata": {},
   "source": [
    "### Using Uber matching\n"
   ]
  },
  {
   "cell_type": "code",
   "execution_count": 112,
   "metadata": {},
   "outputs": [
    {
     "data": {
      "text/plain": [
       "Index(['yob', 'age', 'children', 'T', 'urban_bol', 'Y', 'ps'], dtype='object')"
      ]
     },
     "execution_count": 112,
     "metadata": {},
     "output_type": "execute_result"
    }
   ],
   "source": [
    "data1_copy.columns"
   ]
  },
  {
   "cell_type": "code",
   "execution_count": 113,
   "metadata": {},
   "outputs": [],
   "source": [
    "from causalml.match import NearestNeighborMatch, create_table_one\n",
    "\n",
    "psm = NearestNeighborMatch(replace=False,\n",
    "                           ratio=1,\n",
    "                           random_state=42)\n",
    "\n",
    "features = data1_copy.drop(columns=['Y','T'])\n",
    "covariates = features.columns.tolist()\n",
    "\n",
    "matched1 = psm.match(data=data1_copy,treatment_col='T',score_cols=['ps'])"
   ]
  },
  {
   "cell_type": "code",
   "execution_count": 114,
   "metadata": {},
   "outputs": [
    {
     "name": "stdout",
     "output_type": "stream",
     "text": [
      "The estimated ATT for data1 using 1:1 matching on ps is 0.02729064039408867\n"
     ]
    }
   ],
   "source": [
    "ATT1 = (matched1.Y*matched1['T'] - matched1.Y*(1-matched1['T'])).mean()\n",
    "print(f\"The estimated ATT for data1 using 1:1 matching on ps is {ATT1}\")\n",
    "att_dict1['1:1 ps matching'] =ATT1"
   ]
  },
  {
   "cell_type": "markdown",
   "metadata": {},
   "source": [
    "### Using my code"
   ]
  },
  {
   "cell_type": "code",
   "execution_count": 115,
   "metadata": {},
   "outputs": [
    {
     "name": "stdout",
     "output_type": "stream",
     "text": [
      "The estimated ATT for data1 using 1:1 matching on ps is 0.02453271028037383\n"
     ]
    }
   ],
   "source": [
    "ATT1 = (data_matched.Y*data_matched['T'] - data_matched.Y*(1-data_matched['T'])).mean()\n",
    "print(f\"The estimated ATT for data1 using 1:1 matching on ps is {ATT1}\")\n",
    "att_dict1['1:1 ps matching'] =ATT1"
   ]
  },
  {
   "cell_type": "markdown",
   "metadata": {},
   "source": [
    "# Estimating ATT using S-Learner"
   ]
  },
  {
   "cell_type": "markdown",
   "metadata": {},
   "source": [
    "S-learner (single): fit a model with $t$ as feature on the entire sample:\n",
    "\\begin{equation}\n",
    "y \\approx \\hat{f}(x,t) \\\\\n",
    "ATT \\approx \\frac{1}{n}\\sum_{i=1}^{n}{\\hat{f}(x,1)} - \\frac{1}{n}\\sum_{i=1}^{n}{\\hat{f}(x,0)}\n",
    "\\end{equation}"
   ]
  },
  {
   "cell_type": "code",
   "execution_count": 134,
   "metadata": {},
   "outputs": [],
   "source": [
    "train1, test1 = train_test_split(d22,test_size=0.33)\n",
    "\n",
    "x_train1, t_train1, y_train1 = train1.drop(columns=['T','Y']), train1['T'],train1['Y']\n",
    "x_test1, t_test1, y_test1 = test1.drop(columns=['T','Y']), test1['T'],test1['Y']\n"
   ]
  },
  {
   "cell_type": "code",
   "execution_count": 135,
   "metadata": {},
   "outputs": [
    {
     "data": {
      "text/plain": [
       "Index(['yob', 'age', 'children', 'T', 'urban_bol', 'Y'], dtype='object')"
      ]
     },
     "execution_count": 135,
     "metadata": {},
     "output_type": "execute_result"
    }
   ],
   "source": [
    "d22.columns"
   ]
  },
  {
   "cell_type": "markdown",
   "metadata": {},
   "source": [
    "## Logistic Regression"
   ]
  },
  {
   "cell_type": "code",
   "execution_count": 136,
   "metadata": {},
   "outputs": [],
   "source": [
    "sc = preprocessing.StandardScaler()\n",
    "\n",
    "x_train1[['yob', 'age', 'children']] = sc.fit_transform(x_train1[['yob', 'age', 'children']])\n",
    "x_test1[['yob', 'age', 'children']] = sc.fit_transform(x_test1[['yob', 'age', 'children']])"
   ]
  },
  {
   "cell_type": "code",
   "execution_count": 140,
   "metadata": {},
   "outputs": [
    {
     "data": {
      "text/plain": [
       "LogisticRegression(C=1.0, class_weight=None, dual=False, fit_intercept=True,\n",
       "                   intercept_scaling=1, l1_ratio=None, max_iter=100,\n",
       "                   multi_class='auto', n_jobs=None, penalty='l2',\n",
       "                   random_state=None, solver='lbfgs', tol=0.0001, verbose=0,\n",
       "                   warm_start=False)"
      ]
     },
     "execution_count": 140,
     "metadata": {},
     "output_type": "execute_result"
    }
   ],
   "source": [
    "LogReg_clf = LogisticRegression()\n",
    "LogReg_clf.fit(x_train1.join(t_train1),y_train1)"
   ]
  },
  {
   "cell_type": "code",
   "execution_count": 171,
   "metadata": {},
   "outputs": [
    {
     "data": {
      "text/plain": [
       "array([[ 0.39870016, -0.0350067 ,  0.19217476,  0.21436387,  0.14153207]])"
      ]
     },
     "execution_count": 171,
     "metadata": {},
     "output_type": "execute_result"
    }
   ],
   "source": [
    "LogReg_clf.coef_"
   ]
  },
  {
   "cell_type": "code",
   "execution_count": null,
   "metadata": {},
   "outputs": [],
   "source": []
  },
  {
   "cell_type": "code",
   "execution_count": 141,
   "metadata": {},
   "outputs": [],
   "source": [
    "accuracy = accuracy_score(LogReg_clf.predict(x_test1.join(t_test1)),y_test1)"
   ]
  },
  {
   "cell_type": "code",
   "execution_count": 144,
   "metadata": {},
   "outputs": [
    {
     "name": "stdout",
     "output_type": "stream",
     "text": [
      "accuracy on the test set with LR is 0.66\n"
     ]
    }
   ],
   "source": [
    "print(f\"accuracy on the test set with LR is {round(accuracy,2)}\")"
   ]
  },
  {
   "cell_type": "code",
   "execution_count": 160,
   "metadata": {},
   "outputs": [],
   "source": [
    "cols_to_drop = ['T', 'Y']\n",
    "d22_scaled = d22.copy()\n",
    "d22_scaled[['yob', 'age', 'children']] = sc.fit_transform(d22_scaled[['yob', 'age', 'children']])"
   ]
  },
  {
   "cell_type": "code",
   "execution_count": 163,
   "metadata": {},
   "outputs": [],
   "source": [
    "X11 = d22_scaled[d22_scaled['T']==1].drop(columns=cols_to_drop)\n",
    "Y11 = d22_scaled[d22_scaled['T']==1].Y\n",
    "\n",
    "X11t = X11.copy()\n",
    "X11t['T']=1\n",
    "\n",
    "X11nt = X11.copy()\n",
    "X11nt['T']=0\n"
   ]
  },
  {
   "cell_type": "code",
   "execution_count": null,
   "metadata": {},
   "outputs": [],
   "source": []
  },
  {
   "cell_type": "code",
   "execution_count": 164,
   "metadata": {},
   "outputs": [
    {
     "name": "stdout",
     "output_type": "stream",
     "text": [
      "The estimated ATT using S-learner (LR) is 0.03990411731528483\n"
     ]
    }
   ],
   "source": [
    "ATT1 = (LogReg_clf.predict(X11t)-LogReg_clf.predict(X11nt)).mean()\n",
    "print(f\"The estimated ATT using S-learner (LR) is {ATT1}\")\n",
    "att_dict1['S-learner (LR)'] =ATT1"
   ]
  },
  {
   "cell_type": "code",
   "execution_count": 169,
   "metadata": {},
   "outputs": [
    {
     "data": {
      "text/html": [
       "<div>\n",
       "<style scoped>\n",
       "    .dataframe tbody tr th:only-of-type {\n",
       "        vertical-align: middle;\n",
       "    }\n",
       "\n",
       "    .dataframe tbody tr th {\n",
       "        vertical-align: top;\n",
       "    }\n",
       "\n",
       "    .dataframe thead th {\n",
       "        text-align: right;\n",
       "    }\n",
       "</style>\n",
       "<table border=\"1\" class=\"dataframe\">\n",
       "  <thead>\n",
       "    <tr style=\"text-align: right;\">\n",
       "      <th></th>\n",
       "      <th>ATT</th>\n",
       "    </tr>\n",
       "  </thead>\n",
       "  <tbody>\n",
       "    <tr>\n",
       "      <th>IPW</th>\n",
       "      <td>0.0214</td>\n",
       "    </tr>\n",
       "    <tr>\n",
       "      <th>1:1 ps matching</th>\n",
       "      <td>0.0245</td>\n",
       "    </tr>\n",
       "    <tr>\n",
       "      <th>S-learner (LR)</th>\n",
       "      <td>0.0399</td>\n",
       "    </tr>\n",
       "  </tbody>\n",
       "</table>\n",
       "</div>"
      ],
      "text/plain": [
       "                    ATT\n",
       "IPW              0.0214\n",
       "1:1 ps matching  0.0245\n",
       "S-learner (LR)   0.0399"
      ]
     },
     "execution_count": 169,
     "metadata": {},
     "output_type": "execute_result"
    }
   ],
   "source": [
    "pdatt = pd.DataFrame.from_dict(att_dict1,orient='index', columns=['ATT'])\n",
    "round(pdatt,4)"
   ]
  },
  {
   "cell_type": "code",
   "execution_count": 170,
   "metadata": {},
   "outputs": [],
   "source": [
    "pdatt.to_csv(os.path.join(fig_dir,'att_table.csv'))"
   ]
  }
 ],
 "metadata": {
  "kernelspec": {
   "display_name": "Python 3",
   "language": "python",
   "name": "python3"
  },
  "language_info": {
   "codemirror_mode": {
    "name": "ipython",
    "version": 3
   },
   "file_extension": ".py",
   "mimetype": "text/x-python",
   "name": "python",
   "nbconvert_exporter": "python",
   "pygments_lexer": "ipython3",
   "version": "3.6.10"
  }
 },
 "nbformat": 4,
 "nbformat_minor": 4
}
